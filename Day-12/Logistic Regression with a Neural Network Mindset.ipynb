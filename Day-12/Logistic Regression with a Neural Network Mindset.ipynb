{
 "cells": [
  {
   "cell_type": "markdown",
   "id": "6711699d",
   "metadata": {},
   "source": [
    "## <font color=green>Day-12</font>\n",
    "\n",
    "- Our topic of discussion is <font color=green size=\"4\">**Regression**</font>\n",
    "- Dataset That we would be using : dogs-vs-cats\n",
    "    - Please download the dataset from this [Link](https://www.kaggle.com/competitions/dogs-vs-cats/data#:~:text=get_app-,Download,-All)\n",
    "\n",
    "- Contents :\n",
    "    1. Learning Contents about **Logistic Regression with a Neural Network Mindset**\n",
    "    1. Importing Headers\n",
    "    2. Define Constants\n",
    "    3. Loading Data\n",
    "    4. Helpful Functions\n",
    "    5. Initializing Weights and Parameters\n",
    "    6. Cost Function and Gradients Calculation\n",
    "    7. Optimizing w,b to get least Cost\n",
    "    8. Data preparation\n",
    "    9. Model Training\n",
    "    10. Model Validation\n",
    "    8. Conclusion\n",
    "\n",
    "\n",
    "### Author of the Document : <font color=\"Green\">Karnati Sai Venkata Giri</font>\n",
    "### Feel free to reach me out at : <font color=\"Green\">karnatisaivenkatagiri@gmail.com</font>"
   ]
  },
  {
   "cell_type": "markdown",
   "id": "75b260d9",
   "metadata": {},
   "source": [
    "### Learning"
   ]
  },
  {
   "cell_type": "markdown",
   "id": "1fe2f396",
   "metadata": {},
   "source": [
    "- The learning materials I chose to learn about Neural Networks is from this Course in Coursera ([Link](https://in.coursera.org/learn/neural-networks-deep-learning/))\n",
    "- I am attaching the PDF's of the course for your learning - [Link](https://community.deeplearning.ai/t/dls-course-1-lecture-notes/11862)\n",
    "- Credits to Deeplearning.ai for making such wonderful course and achievements accessible to everyone"
   ]
  },
  {
   "cell_type": "markdown",
   "id": "2c3168b3",
   "metadata": {},
   "source": [
    "### 1. Headers"
   ]
  },
  {
   "cell_type": "code",
   "execution_count": 1,
   "id": "6863ff34",
   "metadata": {},
   "outputs": [
    {
     "name": "stderr",
     "output_type": "stream",
     "text": [
      "/Users/saikarna/opt/anaconda3/lib/python3.9/site-packages/scipy/__init__.py:146: UserWarning: A NumPy version >=1.16.5 and <1.23.0 is required for this version of SciPy (detected version 1.23.2\n",
      "  warnings.warn(f\"A NumPy version >={np_minversion} and <{np_maxversion}\"\n"
     ]
    }
   ],
   "source": [
    "# Computation Libraries\n",
    "import numpy as np\n",
    "import pandas as pd\n",
    "import scipy\n",
    "import copy\n",
    "\n",
    "import os\n",
    "\n",
    "# Image Handling libraries\n",
    "from PIL import Image\n",
    "\n",
    "# Visualisazition Libraries\n",
    "import matplotlib.pyplot as plt\n",
    "import seaborn as sns\n",
    "\n",
    "%matplotlib inline\n",
    "\n",
    "# Modelling Libraries\n",
    "from sklearn.model_selection import train_test_split\n",
    "\n",
    "# Evaluation Metrics Libraries\n",
    "from sklearn.metrics import accuracy_score\n",
    "from sklearn.metrics import confusion_matrix, classification_report"
   ]
  },
  {
   "cell_type": "markdown",
   "id": "8f0b04aa",
   "metadata": {},
   "source": [
    "### 2. Define Constants"
   ]
  },
  {
   "cell_type": "code",
   "execution_count": 2,
   "id": "b4e8bb08",
   "metadata": {},
   "outputs": [],
   "source": [
    "# defaults for training\n",
    "IMG_HEIGHT = 64\n",
    "IMG_WIDTH  = 64"
   ]
  },
  {
   "cell_type": "markdown",
   "id": "82d5d7a1",
   "metadata": {},
   "source": [
    "### 3. Loading Dataset"
   ]
  },
  {
   "cell_type": "code",
   "execution_count": 3,
   "id": "91a63941",
   "metadata": {},
   "outputs": [],
   "source": [
    "## We store the data directly in a verctorized format \n",
    "dataset_path = \"./Dataset/dogs-vs-cats/\"\n",
    "train_path = dataset_path+\"train/\"\n",
    "test_path = dataset_path+\"test1/\"\n",
    "\n",
    "def load_dataset(train_path):\n",
    "    X, Y =[],[]\n",
    "    for filename in os.listdir(train_path):\n",
    "        if(filename[-3:]==\"jpg\"):\n",
    "            file_path = train_path+filename\n",
    "            image= np.array(Image.open(file_path))\n",
    "            image= np.resize(image,(IMG_HEIGHT,IMG_WIDTH,3))\n",
    "            image = image.astype('float32')\n",
    "            image /= 255.  \n",
    "            X.append(image)\n",
    "            Y.append(1 if filename[0]==\"d\" else 0)\n",
    "    X,Y = np.array(X), np.array(Y)\n",
    "    return X, Y"
   ]
  },
  {
   "cell_type": "code",
   "execution_count": 4,
   "id": "0b53f3a9",
   "metadata": {},
   "outputs": [],
   "source": [
    "X , Y = load_dataset(train_path)"
   ]
  },
  {
   "cell_type": "code",
   "execution_count": 5,
   "id": "2f6abdc3",
   "metadata": {},
   "outputs": [],
   "source": [
    "X = np.array(X)\n",
    "Y = np.array(Y)"
   ]
  },
  {
   "cell_type": "code",
   "execution_count": 6,
   "id": "7c719698",
   "metadata": {},
   "outputs": [
    {
     "name": "stdout",
     "output_type": "stream",
     "text": [
      "Number of data points in X :  (25000, 64, 64, 3)\n",
      "Number of data points in Y :  (25000,)\n"
     ]
    },
    {
     "data": {
      "text/plain": [
       "1    12500\n",
       "0    12500\n",
       "dtype: int64"
      ]
     },
     "execution_count": 6,
     "metadata": {},
     "output_type": "execute_result"
    }
   ],
   "source": [
    "print(\"Number of data points in X : \",X.shape)\n",
    "print(\"Number of data points in Y : \",Y.shape)\n",
    "\n",
    "## Number of Cats and Dogs\n",
    "pd.Series(Y).value_counts()"
   ]
  },
  {
   "cell_type": "markdown",
   "id": "0d47a039",
   "metadata": {},
   "source": [
    "### 4. Helpful Functions"
   ]
  },
  {
   "cell_type": "code",
   "execution_count": 7,
   "id": "9164bbba",
   "metadata": {},
   "outputs": [],
   "source": [
    "def sigmoid(z):\n",
    "    s = 1 / (1 + np.exp(-z))\n",
    "    return s"
   ]
  },
  {
   "cell_type": "markdown",
   "id": "5868fce5",
   "metadata": {},
   "source": [
    "### 5. Initializing the Weights and Parameters"
   ]
  },
  {
   "cell_type": "code",
   "execution_count": 8,
   "id": "332d36f3",
   "metadata": {},
   "outputs": [],
   "source": [
    "def initialize_with_zeros(dim):\n",
    "    w = np.zeros((dim,1),dtype=\"float\")\n",
    "    b = 0.0\n",
    "    return w, b"
   ]
  },
  {
   "cell_type": "markdown",
   "id": "1bd371a1",
   "metadata": {},
   "source": [
    "### 6. Cost Function and Gradients Calculation"
   ]
  },
  {
   "cell_type": "code",
   "execution_count": 9,
   "id": "10e2157d",
   "metadata": {},
   "outputs": [],
   "source": [
    "def propagate(w, b, X, Y):\n",
    "    \n",
    "    m = X.shape[1]\n",
    "    A = sigmoid(np.dot(w.T, X) + b)\n",
    "    cost = (-1/m)*np.sum(Y*np.log(A)+(1-Y)*(np.log(1-A)))\n",
    "    dw = (1/m)*(np.dot(X,(A-Y).T))\n",
    "    db = (1./m)*np.sum(A-Y)\n",
    "    cost = np.squeeze(np.array(cost))\n",
    "\n",
    "    \n",
    "    grads = {\"dw\": dw,\n",
    "             \"db\": db}\n",
    "    \n",
    "    return grads, cost"
   ]
  },
  {
   "cell_type": "markdown",
   "id": "a625ea60",
   "metadata": {},
   "source": [
    "### 7. Optimizing w,b to get least Cost "
   ]
  },
  {
   "cell_type": "code",
   "execution_count": 10,
   "id": "bc0d1838",
   "metadata": {},
   "outputs": [],
   "source": [
    "def optimize(w, b, X, Y, num_iterations=100, learning_rate=0.009, print_cost=False):\n",
    "    \n",
    "    costs = []\n",
    "    present_cost = 0\n",
    "    prev_cost = 0\n",
    "    prev_prev_cost = 0\n",
    "    prev_prev_prev_cost = 0\n",
    "    \n",
    "    for i in range(num_iterations):\n",
    "        grads, cost = propagate(w,b,X,Y)\n",
    "        \n",
    "        dw = grads[\"dw\"]\n",
    "        db = grads[\"db\"]\n",
    "        \n",
    "        w = w-np.dot(learning_rate,dw)\n",
    "        b = b-np.dot(learning_rate,db)\n",
    "            \n",
    "#         if(i>3 and i%20==0):\n",
    "#             if(triangle(present_cost,prev_cost,prev_prev_cost, prev_prev_prev_cost)):\n",
    "#                 learning_rate -= 0.0005\n",
    "#             else:\n",
    "#                 learning_rate += 0.0007\n",
    "#         print(cost , learning_rate)\n",
    "\n",
    "        if i % 5 == 0:\n",
    "            costs.append(cost)\n",
    "            if print_cost:\n",
    "                print (\"Cost after iteration %i: %f\" %(i, cost))\n",
    "        \n",
    "        prev_prev_prev_cost = prev_prev_cost\n",
    "        prev_prev_cost = prev_cost\n",
    "        prev_cost = present_cost\n",
    "        present_cost = cost\n",
    "    \n",
    "    params = {\"w\": w,\n",
    "              \"b\": b}\n",
    "    \n",
    "    grads = {\"dw\": dw,\n",
    "             \"db\": db}\n",
    "    \n",
    "    return params, grads, costs"
   ]
  },
  {
   "cell_type": "markdown",
   "id": "765e0674",
   "metadata": {},
   "source": [
    "### 8. Data preparation"
   ]
  },
  {
   "cell_type": "code",
   "execution_count": 11,
   "id": "8b0645c6",
   "metadata": {},
   "outputs": [
    {
     "name": "stdout",
     "output_type": "stream",
     "text": [
      "Number of data points in X :  (25000, 64, 64, 3)\n",
      "Number of data points in Y :  (25000,)\n",
      "X-train Shape :  (16750, 64, 64, 3) Y-train Shape :  (16750,)\n",
      "X-test Shape :  (8250, 64, 64, 3) Y-test Shape :  (8250,)\n"
     ]
    }
   ],
   "source": [
    "print(\"Number of data points in X : \",X.shape)\n",
    "print(\"Number of data points in Y : \",Y.shape)\n",
    "\n",
    "\n",
    "X_train, X_test, Y_train ,Y_test = train_test_split(X,Y,test_size = 0.33, random_state = 33)\n",
    "print(\"X-train Shape : \",X_train.shape, \"Y-train Shape : \",Y_train.shape)\n",
    "print(\"X-test Shape : \",X_test.shape, \"Y-test Shape : \",Y_test.shape)"
   ]
  },
  {
   "cell_type": "code",
   "execution_count": 12,
   "id": "88d07b62",
   "metadata": {},
   "outputs": [
    {
     "name": "stdout",
     "output_type": "stream",
     "text": [
      "X-train Shape :  (12288, 16750) Y-train Shape :  (1, 16750)\n",
      "X-test Shape :  (12288, 8250) Y-test Shape :  (1, 8250)\n"
     ]
    }
   ],
   "source": [
    "X_train_flatten = X_train.reshape(X_train.shape[0],-1).T\n",
    "Y_train_flatten = Y_train.reshape(Y_train.shape[0],-1).T\n",
    "\n",
    "X_test_flatten = X_test.reshape(X_test.shape[0],-1).T\n",
    "Y_test_flatten = Y_test.reshape(Y_test.shape[0],-1).T\n",
    "\n",
    "print(\"X-train Shape : \",X_train_flatten.shape, \"Y-train Shape : \",Y_train_flatten.shape)\n",
    "print(\"X-test Shape : \",X_test_flatten.shape, \"Y-test Shape : \",Y_test_flatten.shape)"
   ]
  },
  {
   "cell_type": "markdown",
   "id": "35fa239b",
   "metadata": {},
   "source": [
    "### 9. Model Training"
   ]
  },
  {
   "cell_type": "code",
   "execution_count": 13,
   "id": "f33e1bef",
   "metadata": {},
   "outputs": [],
   "source": [
    "def predict(w, b, X):\n",
    "    m = X.shape[1]\n",
    "    Y_prediction = np.zeros((1, m))\n",
    "    w = w.reshape(X.shape[0], 1)\n",
    "    A = sigmoid(np.dot(w.T,X)+b)\n",
    "    \n",
    "    for i in range(A.shape[1]):\n",
    "        Y_prediction[0, i] = 1 if A[0, i]> 0.5 else 0\n",
    "    \n",
    "    return Y_prediction"
   ]
  },
  {
   "cell_type": "code",
   "execution_count": 14,
   "id": "5e2f1ba7",
   "metadata": {},
   "outputs": [],
   "source": [
    "def train_model(X_train, Y_train, num_iterations=100, learning_rate=0.5, print_cost=False):\n",
    "    \n",
    "    w,b = initialize_with_zeros(dim=X_train.shape[0])\n",
    "    \n",
    "#     print(w.shape)\n",
    "    params, grads, costs = optimize(w, b, X_train, Y_train, num_iterations, learning_rate, print_cost)\n",
    "    \n",
    "    w = params[\"w\"]\n",
    "    b = params[\"b\"]\n",
    "    Y_prediction_train = predict(w,b,X_train)\n",
    "    if print_cost:\n",
    "        print(\"train accuracy: {} %\".format(100 - np.mean(np.abs(Y_prediction_train - Y_train)) * 100))\n",
    "    \n",
    "    d = {\"costs\": costs,\n",
    "         \"Y_prediction_train\" : Y_prediction_train, \n",
    "         \"w\" : w, \n",
    "         \"b\" : b,\n",
    "         \"learning_rate\" : learning_rate,\n",
    "         \"num_iterations\": num_iterations}\n",
    "    \n",
    "    return d"
   ]
  },
  {
   "cell_type": "code",
   "execution_count": 15,
   "id": "e8677808",
   "metadata": {
    "scrolled": false
   },
   "outputs": [
    {
     "name": "stdout",
     "output_type": "stream",
     "text": [
      "Cost after iteration 0: 0.693147\n",
      "Cost after iteration 5: 1.559786\n",
      "Cost after iteration 10: 1.518473\n",
      "Cost after iteration 15: 1.621053\n",
      "Cost after iteration 20: 1.514014\n",
      "Cost after iteration 25: 1.620075\n",
      "Cost after iteration 30: 1.512061\n",
      "Cost after iteration 35: 1.618917\n",
      "Cost after iteration 40: 1.510213\n",
      "Cost after iteration 45: 1.617671\n",
      "Cost after iteration 50: 1.508458\n",
      "Cost after iteration 55: 1.616355\n",
      "Cost after iteration 60: 1.506789\n",
      "Cost after iteration 65: 1.614982\n",
      "Cost after iteration 70: 1.505199\n",
      "Cost after iteration 75: 1.613563\n",
      "Cost after iteration 80: 1.503683\n",
      "Cost after iteration 85: 1.612110\n",
      "Cost after iteration 90: 1.502236\n",
      "Cost after iteration 95: 1.610630\n",
      "train accuracy: 50.208955223880594 %\n"
     ]
    }
   ],
   "source": [
    "model = train_model(X_train_flatten,Y_train_flatten, num_iterations=100, learning_rate=0.005, print_cost=True)"
   ]
  },
  {
   "cell_type": "code",
   "execution_count": 16,
   "id": "44885784",
   "metadata": {
    "scrolled": true
   },
   "outputs": [
    {
     "data": {
      "text/plain": [
       "[<matplotlib.lines.Line2D at 0x17d9264f0>]"
      ]
     },
     "execution_count": 16,
     "metadata": {},
     "output_type": "execute_result"
    },
    {
     "data": {
      "image/png": "[encoded data removed]",
      "text/plain": [
       "<Figure size 432x288 with 1 Axes>"
      ]
     },
     "metadata": {
      "needs_background": "light"
     },
     "output_type": "display_data"
    }
   ],
   "source": [
    "costs = np.squeeze(model['costs'])\n",
    "plt.plot(costs)"
   ]
  },
  {
   "cell_type": "markdown",
   "id": "d174959f",
   "metadata": {},
   "source": [
    "### 10. Validating Dataset"
   ]
  },
  {
   "cell_type": "code",
   "execution_count": 17,
   "id": "095902b3",
   "metadata": {},
   "outputs": [],
   "source": [
    "Y_pred = predict(model[\"w\"],model[\"b\"],X_test_flatten)"
   ]
  },
  {
   "cell_type": "code",
   "execution_count": 18,
   "id": "39089499",
   "metadata": {},
   "outputs": [
    {
     "name": "stdout",
     "output_type": "stream",
     "text": [
      "Testing-set accuracy score: 0.4955\n",
      "              precision    recall  f1-score   support\n",
      "\n",
      "         0.0       1.00      0.50      0.66      8248\n",
      "         1.0       0.00      0.00      0.00         2\n",
      "\n",
      "    accuracy                           0.50      8250\n",
      "   macro avg       0.50      0.25      0.33      8250\n",
      "weighted avg       1.00      0.50      0.66      8250\n",
      "\n"
     ]
    }
   ],
   "source": [
    "print('Testing-set accuracy score: {0:0.4f}'. format(accuracy_score(Y_pred.reshape(Y_pred.shape[1],-1),Y_test)))\n",
    "print(classification_report(Y_pred.reshape(Y_pred.shape[1],-1),Y_test))"
   ]
  }
 ],
 "metadata": {
  "kernelspec": {
   "display_name": "Python 3.9 (GPU)",
   "language": "python",
   "name": "gpu"
  },
  "language_info": {
   "codemirror_mode": {
    "name": "ipython",
    "version": 3
   },
   "file_extension": ".py",
   "mimetype": "text/x-python",
   "name": "python",
   "nbconvert_exporter": "python",
   "pygments_lexer": "ipython3",
   "version": "3.9.12"
  }
 },
 "nbformat": 4,
 "nbformat_minor": 5
}
